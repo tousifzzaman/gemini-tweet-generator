{
  "nbformat": 4,
  "nbformat_minor": 0,
  "metadata": {
    "colab": {
      "provenance": []
    },
    "kernelspec": {
      "name": "python3",
      "display_name": "Python 3"
    },
    "language_info": {
      "name": "python"
    }
  },
  "cells": [
    {
      "cell_type": "markdown",
      "source": [
        "Step 1: Install required packages"
      ],
      "metadata": {
        "id": "pmqDc2m9G51t"
      }
    },
    {
      "cell_type": "code",
      "source": [
        "!pip install google-generativeai --quiet\n",
        "!pip install ipywidgets --quiet\n"
      ],
      "metadata": {
        "id": "O9EYM-_IgXp9"
      },
      "execution_count": null,
      "outputs": []
    },
    {
      "cell_type": "markdown",
      "source": [
        "Step 2: Import libraries"
      ],
      "metadata": {
        "id": "xF6xdxMRG_nv"
      }
    },
    {
      "cell_type": "code",
      "source": [
        "import google.generativeai as genai\n",
        "import ipywidgets as widgets\n",
        "from IPython.display import display,Markdown"
      ],
      "metadata": {
        "id": "wCSDLeuRgtdB"
      },
      "execution_count": null,
      "outputs": []
    },
    {
      "cell_type": "markdown",
      "source": [
        "Step 3: Set up Gemini API"
      ],
      "metadata": {
        "id": "O_ASCfqbHCCx"
      }
    },
    {
      "cell_type": "code",
      "source": [
        "Api_key = input(\"Enter your Gemini API key: \")\n",
        "genai.configure(api_key=Api_key)\n",
        "model = genai.GenerativeModel(\"gemini-1.5-flash\")"
      ],
      "metadata": {
        "id": "UbXcfRIChOAm"
      },
      "execution_count": null,
      "outputs": []
    },
    {
      "cell_type": "markdown",
      "source": [
        "Step 4: Define the input form"
      ],
      "metadata": {
        "id": "6U4nkTanHF0M"
      }
    },
    {
      "cell_type": "code",
      "source": [
        "Topic_input =widgets.Text(\n",
        "    description=\"Topic\",\n",
        "    layout =widgets.Layout(width ='400px')\n",
        ")\n",
        "tone_input =widgets.Dropdown(\n",
        "    description=\"Tone\",\n",
        "    options =['Professional','Casual','Motivational','informative'],\n",
        "    layout =widgets.Layout(width ='400px')\n",
        ")\n",
        "audience_input =widgets.Text(\n",
        "    description=\"Audience\",\n",
        "    layout =widgets.Layout(width ='400px')\n",
        ")\n",
        "hastag_input =widgets.Text(\n",
        "    description=\"Hastags\",\n",
        "    layout =widgets.Layout(width ='400px')\n",
        ")\n",
        "submit_button =widgets.Button(\n",
        "    description=\"Generative Tweet\",\n",
        "    button_style='success',\n",
        "    layout =widgets.Layout(width ='400px')\n",
        ")\n",
        "output =widgets.Output()\n"
      ],
      "metadata": {
        "id": "za5zmc9iih4I"
      },
      "execution_count": null,
      "outputs": []
    },
    {
      "cell_type": "markdown",
      "source": [
        "Step 5: Generate Tweet Function"
      ],
      "metadata": {
        "id": "J4m4aGgSHIOm"
      }
    },
    {
      "cell_type": "code",
      "source": [
        "def generate_tweet(b):\n",
        "  output.clear_output()\n",
        "  prompt= f\"\"\"\n",
        "  you are an expert Content writer\n",
        "  generate a tweet about the topic\"{Topic_input.value}\",\n",
        "  use a tone \"{tone_input.value},\n",
        "  generate tweet for audience {audience_input.value},\n",
        "  include the hastags {hastag_input.value},\n",
        "  keep it  1k characters\n",
        "  \"\"\"\n",
        "  with output :\n",
        "    try:\n",
        "      response =model.generate_content(prompt)\n",
        "      tweet =response.text.strip()\n",
        "      display(Markdown(f\"###Generated Tweet :\\n\\n{tweet}\"))\n",
        "    except Exception as e:\n",
        "      print(\"Error\",e)"
      ],
      "metadata": {
        "id": "I3Cq1PublnOu"
      },
      "execution_count": null,
      "outputs": []
    },
    {
      "cell_type": "markdown",
      "source": [
        "Step 6: Display the form"
      ],
      "metadata": {
        "id": "pRaayOW-HSWY"
      }
    },
    {
      "cell_type": "code",
      "source": [
        "form = widgets.VBox([\n",
        "    widgets.HTML(value=\"<h1>Generate Tweet</h1>\"),\n",
        "    Topic_input,\n",
        "    tone_input,\n",
        "    audience_input,\n",
        "    hastag_input,\n",
        "    submit_button,\n",
        "    output\n",
        "])\n",
        "display(form)"
      ],
      "metadata": {
        "id": "hQ8mIJc2ozuG"
      },
      "execution_count": null,
      "outputs": []
    },
    {
      "cell_type": "code",
      "metadata": {
        "id": "67e20226"
      },
      "source": [
        "submit_button.on_click(generate_tweet)"
      ],
      "execution_count": null,
      "outputs": []
    }
  ]
}